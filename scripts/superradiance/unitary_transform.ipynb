{
 "cells": [
  {
   "cell_type": "code",
   "execution_count": 19,
   "metadata": {},
   "outputs": [],
   "source": [
    "from sympy import*\n",
    "from sympy.physics.quantum import TensorProduct\n",
    "init_printing()"
   ]
  },
  {
   "cell_type": "markdown",
   "metadata": {},
   "source": [
    "<h1>Operators</h1>"
   ]
  },
  {
   "cell_type": "code",
   "execution_count": 20,
   "metadata": {},
   "outputs": [],
   "source": [
    "sigZ = zeros(2,2)\n",
    "sigZ[0,0] = -S(1)/2; sigZ[1,1] = S(1)/2\n",
    "sigZ1 = TensorProduct(sigZ, eye(2))\n",
    "sigZ2 = TensorProduct(eye(2), sigZ)\n",
    "sigM = zeros(2,2)\n",
    "sigM[0,1] = 1\n",
    "sigM1 = TensorProduct(sigM, eye(2))\n",
    "sigM2 = TensorProduct(eye(2), sigM)\n",
    "sigP1 = conjugate(sigM1.T)\n",
    "sigP2 = conjugate(sigM2.T)"
   ]
  },
  {
   "cell_type": "markdown",
   "metadata": {},
   "source": [
    "<h1>Parameters</h1>"
   ]
  },
  {
   "cell_type": "code",
   "execution_count": 21,
   "metadata": {},
   "outputs": [],
   "source": [
    "g1, g2, g12 = symbols('Gamma_1, Gamma_2, Gamma_12', positive = True)\n",
    "w1, w2, wl, Om1, Om2, dip, t = symbols('omega_1, omega_2, omega_l, Omega_1, Omega_2, Lambda, t', real = True)"
   ]
  },
  {
   "cell_type": "markdown",
   "metadata": {},
   "source": [
    "<h1>Hamiltonian</h1>"
   ]
  },
  {
   "cell_type": "code",
   "execution_count": 22,
   "metadata": {},
   "outputs": [
    {
     "data": {
      "image/png": "[encoded data removed]",
      "text/latex": [
       "$\\displaystyle \\left[\\begin{matrix}- \\frac{\\omega_{1}}{2} - \\frac{\\omega_{2}}{2} & \\frac{i \\Omega_{2} e^{i \\omega_{l} t}}{2} & \\frac{i \\Omega_{1} e^{i \\omega_{l} t}}{2} & 0\\\\- \\frac{i \\Omega_{2} e^{- i \\omega_{l} t}}{2} & - \\frac{\\omega_{1}}{2} + \\frac{\\omega_{2}}{2} & \\Lambda & \\frac{i \\Omega_{1} e^{i \\omega_{l} t}}{2}\\\\- \\frac{i \\Omega_{1} e^{- i \\omega_{l} t}}{2} & \\Lambda & \\frac{\\omega_{1}}{2} - \\frac{\\omega_{2}}{2} & \\frac{i \\Omega_{2} e^{i \\omega_{l} t}}{2}\\\\0 & - \\frac{i \\Omega_{1} e^{- i \\omega_{l} t}}{2} & - \\frac{i \\Omega_{2} e^{- i \\omega_{l} t}}{2} & \\frac{\\omega_{1}}{2} + \\frac{\\omega_{2}}{2}\\end{matrix}\\right]$"
      ],
      "text/plain": [
       "⎡                        ⅈ⋅ωₗ⋅t           ⅈ⋅ωₗ⋅t                ⎤\n",
       "⎢     ω₁   ω₂      ⅈ⋅Ω₂⋅ℯ           ⅈ⋅Ω₁⋅ℯ                      ⎥\n",
       "⎢   - ── - ──      ────────────     ────────────         0      ⎥\n",
       "⎢     2    2            2                2                      ⎥\n",
       "⎢                                                               ⎥\n",
       "⎢       -ⅈ⋅ωₗ⋅t                                           ⅈ⋅ωₗ⋅t⎥\n",
       "⎢-ⅈ⋅Ω₂⋅ℯ               ω₁   ω₂                      ⅈ⋅Ω₁⋅ℯ      ⎥\n",
       "⎢───────────────     - ── + ──            Λ         ────────────⎥\n",
       "⎢       2              2    2                            2      ⎥\n",
       "⎢                                                               ⎥\n",
       "⎢       -ⅈ⋅ωₗ⋅t                                           ⅈ⋅ωₗ⋅t⎥\n",
       "⎢-ⅈ⋅Ω₁⋅ℯ                               ω₁   ω₂      ⅈ⋅Ω₂⋅ℯ      ⎥\n",
       "⎢───────────────         Λ             ── - ──      ────────────⎥\n",
       "⎢       2                              2    2            2      ⎥\n",
       "⎢                                                               ⎥\n",
       "⎢                        -ⅈ⋅ωₗ⋅t          -ⅈ⋅ωₗ⋅t               ⎥\n",
       "⎢                 -ⅈ⋅Ω₁⋅ℯ          -ⅈ⋅Ω₂⋅ℯ            ω₁   ω₂   ⎥\n",
       "⎢       0         ───────────────  ───────────────    ── + ──   ⎥\n",
       "⎣                        2                2           2    2    ⎦"
      ]
     },
     "execution_count": 22,
     "metadata": {},
     "output_type": "execute_result"
    }
   ],
   "source": [
    "H0 = w1*sigZ1 + w2*sigZ2 + dip*(sigP1*sigM2+sigP2*sigM1) -I/2*(Om1*sigP1*exp(-I*wl*t)+Om2*sigP2*exp(-I*wl*t))\n",
    "H0+= I/2*(Om1*sigM1*exp(I*wl*t)+Om2*sigM2*exp(I*wl*t))\n",
    "H0"
   ]
  },
  {
   "cell_type": "markdown",
   "metadata": {},
   "source": [
    "<h1>Unitary transformation</h1>"
   ]
  },
  {
   "cell_type": "code",
   "execution_count": 23,
   "metadata": {},
   "outputs": [
    {
     "data": {
      "image/png": "[encoded data removed]",
      "text/latex": [
       "$\\displaystyle \\left[\\begin{matrix}e^{i a_{1} t} & 0 & 0 & 0\\\\0 & e^{i a_{2} t} & 0 & 0\\\\0 & 0 & e^{i a_{3} t} & 0\\\\0 & 0 & 0 & e^{i a_{4} t}\\end{matrix}\\right]$"
      ],
      "text/plain": [
       "⎡ ⅈ⋅a₁⋅t                           ⎤\n",
       "⎢ℯ           0        0        0   ⎥\n",
       "⎢                                  ⎥\n",
       "⎢          ⅈ⋅a₂⋅t                  ⎥\n",
       "⎢   0     ℯ           0        0   ⎥\n",
       "⎢                                  ⎥\n",
       "⎢                   ⅈ⋅a₃⋅t         ⎥\n",
       "⎢   0        0     ℯ           0   ⎥\n",
       "⎢                                  ⎥\n",
       "⎢                            ⅈ⋅a₄⋅t⎥\n",
       "⎣   0        0        0     ℯ      ⎦"
      ]
     },
     "execution_count": 23,
     "metadata": {},
     "output_type": "execute_result"
    }
   ],
   "source": [
    "a1, a2, a3, a4 = symbols(\"a1:5\", real = True)\n",
    "U = exp(I*t*(a1*sigM1*sigP1*sigM2*sigP2+a2*sigM1*sigP1*sigP2*sigM2\n",
    "             +a3*sigP1*sigM1*sigM2*sigP2+a4*sigP1*sigM1*sigP2*sigM2))\n",
    "U"
   ]
  },
  {
   "cell_type": "code",
   "execution_count": 24,
   "metadata": {},
   "outputs": [
    {
     "data": {
      "image/png": "[encoded data removed]",
      "text/latex": [
       "$\\displaystyle \\left[\\begin{matrix}- a_{1} - \\frac{\\omega_{1}}{2} - \\frac{\\omega_{2}}{2} & \\frac{i \\Omega_{2} e^{i t \\left(a_{1} - a_{2} + \\omega_{l}\\right)}}{2} & \\frac{i \\Omega_{1} e^{i t \\left(a_{1} - a_{3} + \\omega_{l}\\right)}}{2} & 0\\\\- \\frac{i \\Omega_{2} e^{- i t \\left(a_{1} - a_{2} + \\omega_{l}\\right)}}{2} & - a_{2} - \\frac{\\omega_{1}}{2} + \\frac{\\omega_{2}}{2} & \\Lambda e^{i t \\left(a_{2} - a_{3}\\right)} & \\frac{i \\Omega_{1} e^{i t \\left(a_{2} - a_{4} + \\omega_{l}\\right)}}{2}\\\\- \\frac{i \\Omega_{1} e^{- i t \\left(a_{1} - a_{3} + \\omega_{l}\\right)}}{2} & \\Lambda e^{i t \\left(- a_{2} + a_{3}\\right)} & - a_{3} + \\frac{\\omega_{1}}{2} - \\frac{\\omega_{2}}{2} & \\frac{i \\Omega_{2} e^{i t \\left(a_{3} - a_{4} + \\omega_{l}\\right)}}{2}\\\\0 & - \\frac{i \\Omega_{1} e^{- i t \\left(a_{2} - a_{4} + \\omega_{l}\\right)}}{2} & - \\frac{i \\Omega_{2} e^{- i t \\left(a_{3} - a_{4} + \\omega_{l}\\right)}}{2} & - a_{4} + \\frac{\\omega_{1}}{2} + \\frac{\\omega_{2}}{2}\\end{matrix}\\right]$"
      ],
      "text/plain": [
       "⎡                                    ⅈ⋅t⋅(a₁ - a₂ + ωₗ)           ⅈ⋅t⋅(a₁ - a₃\n",
       "⎢             ω₁   ω₂          ⅈ⋅Ω₂⋅ℯ                       ⅈ⋅Ω₁⋅ℯ            \n",
       "⎢       -a₁ - ── - ──          ────────────────────────     ──────────────────\n",
       "⎢             2    2                      2                            2      \n",
       "⎢                                                                             \n",
       "⎢       -ⅈ⋅t⋅(a₁ - a₂ + ωₗ)                                                   \n",
       "⎢-ⅈ⋅Ω₂⋅ℯ                                   ω₁   ω₂                 ⅈ⋅t⋅(a₂ - a\n",
       "⎢───────────────────────────         -a₂ - ── + ──              Λ⋅ℯ           \n",
       "⎢             2                            2    2                             \n",
       "⎢                                                                             \n",
       "⎢       -ⅈ⋅t⋅(a₁ - a₃ + ωₗ)                                                   \n",
       "⎢-ⅈ⋅Ω₁⋅ℯ                              ⅈ⋅t⋅(-a₂ + a₃)                    ω₁   ω\n",
       "⎢───────────────────────────       Λ⋅ℯ                            -a₃ + ── - ─\n",
       "⎢             2                                                         2    2\n",
       "⎢                                                                             \n",
       "⎢                                    -ⅈ⋅t⋅(a₂ - a₄ + ωₗ)          -ⅈ⋅t⋅(a₃ - a\n",
       "⎢                             -ⅈ⋅Ω₁⋅ℯ                      -ⅈ⋅Ω₂⋅ℯ            \n",
       "⎢             0               ───────────────────────────  ───────────────────\n",
       "⎣                                          2                            2     \n",
       "\n",
       " + ωₗ)                            ⎤\n",
       "                                  ⎥\n",
       "──────               0            ⎥\n",
       "                                  ⎥\n",
       "                                  ⎥\n",
       "                ⅈ⋅t⋅(a₂ - a₄ + ωₗ)⎥\n",
       "₃)        ⅈ⋅Ω₁⋅ℯ                  ⎥\n",
       "          ────────────────────────⎥\n",
       "                     2            ⎥\n",
       "                                  ⎥\n",
       "                ⅈ⋅t⋅(a₃ - a₄ + ωₗ)⎥\n",
       "₂         ⅈ⋅Ω₂⋅ℯ                  ⎥\n",
       "─         ────────────────────────⎥\n",
       "                     2            ⎥\n",
       "                                  ⎥\n",
       "₄ + ωₗ)                           ⎥\n",
       "                     ω₁   ω₂      ⎥\n",
       "────────       -a₄ + ── + ──      ⎥\n",
       "                     2    2       ⎦"
      ]
     },
     "execution_count": 24,
     "metadata": {},
     "output_type": "execute_result"
    }
   ],
   "source": [
    "H = U*H0*conjugate(U.T)-(a1*sigM1*sigP1*sigM2*sigP2+a2*sigM1*sigP1*sigP2*sigM2\n",
    "                         +a3*sigP1*sigM1*sigM2*sigP2+a4*sigP1*sigM1*sigP2*sigM2)\n",
    "H.simplify()"
   ]
  },
  {
   "cell_type": "code",
   "execution_count": 27,
   "metadata": {},
   "outputs": [
    {
     "data": {
      "image/png": "[encoded data removed]",
      "text/latex": [
       "$\\displaystyle \\left[\\begin{matrix}0 & \\frac{i \\Omega_{2}}{2} & \\frac{i \\Omega_{1}}{2} & 0\\\\- \\frac{i \\Omega_{2}}{2} & \\Delta_{2} & \\Lambda & \\frac{i \\Omega_{1}}{2}\\\\- \\frac{i \\Omega_{1}}{2} & \\Lambda & \\Delta_{1} & \\frac{i \\Omega_{2}}{2}\\\\0 & - \\frac{i \\Omega_{1}}{2} & - \\frac{i \\Omega_{2}}{2} & \\Delta_{1} + \\Delta_{2}\\end{matrix}\\right]$"
      ],
      "text/plain": [
       "⎡         ⅈ⋅Ω₂    ⅈ⋅Ω₁          ⎤\n",
       "⎢  0      ────    ────      0   ⎥\n",
       "⎢          2       2            ⎥\n",
       "⎢                               ⎥\n",
       "⎢-ⅈ⋅Ω₂                    ⅈ⋅Ω₁  ⎥\n",
       "⎢──────    Δ₂      Λ      ────  ⎥\n",
       "⎢  2                       2    ⎥\n",
       "⎢                               ⎥\n",
       "⎢-ⅈ⋅Ω₁                    ⅈ⋅Ω₂  ⎥\n",
       "⎢──────    Λ       Δ₁     ────  ⎥\n",
       "⎢  2                       2    ⎥\n",
       "⎢                               ⎥\n",
       "⎢        -ⅈ⋅Ω₁   -ⅈ⋅Ω₂          ⎥\n",
       "⎢  0     ──────  ──────  Δ₁ + Δ₂⎥\n",
       "⎣          2       2            ⎦"
      ]
     },
     "execution_count": 27,
     "metadata": {},
     "output_type": "execute_result"
    }
   ],
   "source": [
    "A1 = -(w1+w2)/2\n",
    "A2 = A1 + wl\n",
    "A3 = A1 + wl\n",
    "A4 = A2 + wl\n",
    "D1, D2 = symbols('Delta_1, Delta_2', real = True)\n",
    "H = H.subs([(a1, A1), (a2, A2), (a3, A3), (a4, A4), (w1-wl, D1), (w1+w2-2*wl, D1+D2)]).simplify()\n",
    "H"
   ]
  },
  {
   "cell_type": "code",
   "execution_count": 28,
   "metadata": {},
   "outputs": [],
   "source": [
    "Um1 = (U*sigM1*conjugate(U.T)).subs([(a1, A1), (a2, A2), (a3, A3), (a4, A4)]).simplify()\n",
    "Um2 = (U*sigM2*conjugate(U.T)).subs([(a1, A1), (a2, A2), (a3, A3), (a4, A4)]).simplify()\n",
    "Up1 = (U*sigP1*conjugate(U.T)).subs([(a1, A1), (a2, A2), (a3, A3), (a4, A4)]).simplify()\n",
    "Up2 = (U*sigP2*conjugate(U.T)).subs([(a1, A1), (a2, A2), (a3, A3), (a4, A4)]).simplify()"
   ]
  }
 ],
 "metadata": {
  "kernelspec": {
   "display_name": "Python 3",
   "language": "python",
   "name": "python3"
  },
  "language_info": {
   "codemirror_mode": {
    "name": "ipython",
    "version": 3
   },
   "file_extension": ".py",
   "mimetype": "text/x-python",
   "name": "python",
   "nbconvert_exporter": "python",
   "pygments_lexer": "ipython3",
   "version": "3.7.4"
  }
 },
 "nbformat": 4,
 "nbformat_minor": 4
}
